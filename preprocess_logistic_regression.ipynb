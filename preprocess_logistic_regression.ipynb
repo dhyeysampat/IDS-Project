{
 "cells": [
  {
   "cell_type": "code",
   "execution_count": 1,
   "metadata": {},
   "outputs": [],
   "source": [
    "import matplotlib.pyplot as plt\n",
    "import numpy as np\n",
    "import os\n",
    "import pandas as pd\n",
    "import pyspark.sql.functions as F\n",
    "import setuptools\n",
    "from dotenv import load_dotenv\n",
    "from pyspark.sql import SparkSession\n",
    "from pyspark.sql.window import Window\n",
    "from sklearn import linear_model, preprocessing\n",
    "from sklearn.model_selection import KFold, cross_val_score\n",
    "from sklearn.pipeline import make_pipeline, Pipeline\n",
    "from sklearn.preprocessing import PolynomialFeatures\n",
    "%matplotlib inline\n",
    "\n",
    "load_dotenv()\n",
    "spark = SparkSession.builder.remote(os.getenv('SPARK_HOST')).appName(os.getenv('SPARK_APP_NAME')).getOrCreate()\n",
    "ROOT = os.getenv('WORKING_DIR') or '.'"
   ]
  },
  {
   "cell_type": "code",
   "execution_count": 2,
   "metadata": {},
   "outputs": [],
   "source": [
    "df = spark.read.parquet(ROOT + 'data/tax_trafi_merged_data')\n",
    "vtax = spark.read.parquet(ROOT + 'data/index_vehicle_tax_data.parquet')\n",
    "prices = spark.read.parquet(ROOT + 'data/knn_imputed_prices')"
   ]
  },
  {
   "cell_type": "code",
   "execution_count": 3,
   "metadata": {},
   "outputs": [
    {
     "name": "stdout",
     "output_type": "stream",
     "text": [
      "+-----------+----------------------+--------------------------+----------------+-----+-----------+------------------+-----------+-----+-------+---------+--------+-------+----+---------------------+------------------------+---------+--------+---------+-----------+---------------+-----------------------+----------------+------------+---------------+-------------------+--------------+--------------------+------------+---------------+------------------+------------------+--------------------+---------------------+------------+--------+---------+--------+---------+--------+----------------+----------+---------+----+---------+---------------+-------------------------------+----------------+---------------+--------------------+-------------+-------+----+-------------+-----------+----------+----------+----------------+----+---------------------+------------------------------+--------+----------+------+-----------------+------------------+\n",
      "|      index|vehicle_classification|date_of_first_registration|vehicle_subclass|usage|variant_uid|       version_uid|date_of_use|color|n_doors|body_type|cab_type|n_seats|mass|manufac_perm_max_mass|max_road_perm_laden_mass|length_mm|width_mm|height_mm|drive_power|engine_capacity|max_net_engine_power_kw|sylintereidenLkm|supercharged|electric_hybrid|electric_hybrid_cat|make_plaintext|               model|transmission|n_forward_gears|manufac_trade_name|brake_transmission|type_approval_number|driving_power_euro_vi|municipality|NEDC_Co2|NEDC2_Co2|WLTP_Co2|WLTP2_Co2|odometer|serial_number_10|seq_number|tax_index|make|tax.model|model_specifier|condition_h_bad_n_normal_y_good|date_of_decision|tax.date_of_use|odometer_unit_1000km|taxable_value|car_tax| Cm3|driving_power|tax.n_doors|body_style|drivetrain|tax.transmission|  Kw|individual_properties|tax.date_of_first_registration|tax_rate|pred_price|  vtax|__index_level_0__|     imputed_price|\n",
      "+-----------+----------------------+--------------------------+----------------+-----+-----------+------------------+-----------+-----+-------+---------+--------+-------+----+---------------------+------------------------+---------+--------+---------+-----------+---------------+-----------------------+----------------+------------+---------------+-------------------+--------------+--------------------+------------+---------------+------------------+------------------+--------------------+---------------------+------------+--------+---------+--------+---------+--------+----------------+----------+---------+----+---------+---------------+-------------------------------+----------------+---------------+--------------------+-------------+-------+----+-------------+-----------+----------+----------+----------------+----+---------------------+------------------------------+--------+----------+------+-----------------+------------------+\n",
      "|34360044945|                    M1|                2011-02-24|            NULL|    1|       KM41|                5K| 2010-05-03|    8|      4|       AA|    NULL|      4|1975|                 2530|                    2530|     5212|    1902|     1478|         02|           2993|                  180.0|               6|        true|          false|               NULL|           BMW|730Ld Sedan (AA) ...|           2|              6|             730Ld|                 5| e1*2001/116*0490*02|                   02|         179|     194|     NULL|    NULL|     NULL|  133531|      WBAKM41050|   2474128|     NULL|NULL|     NULL|           NULL|                           NULL|            NULL|           NULL|                NULL|         NULL|   NULL|NULL|         NULL|       NULL|      NULL|      NULL|            NULL|NULL|                 NULL|                          NULL|    NULL|      NULL|702.62|          2647749| 77433.48974022991|\n",
      "|34360098916|                    M1|                2011-04-06|            NULL|    1|     0E9HZ*|            0E9HZH| 2010-07-19|    6|      4|       AF|    NULL|      7|1577|                 2250|                    NULL|     4529|    1837|     1647|         02|           1560|                   80.0|               4|        true|           NULL|               NULL|       Peugeot|5008 Monikäyttöaj...|           1|              6|              5008|                 5|  e2*2007/46*0004*00|                   02|         743|     145|     NULL|    NULL|     NULL|  225473|      VF30E9HZH9|   2528099|     NULL|NULL|     NULL|           NULL|                           NULL|            NULL|           NULL|                NULL|         NULL|   NULL|NULL|         NULL|       NULL|      NULL|      NULL|            NULL|NULL|                 NULL|                          NULL|    NULL|      NULL|514.28|          2624405| 36966.17059968695|\n",
      "|34360122116|                    M1|                2011-01-09|            NULL|    1|       BB11|      1A01A2ACANA5| 2011-01-09|    0|      4|       AF|    NULL|      5|1373|                 1885|                    NULL|     4419|    1814|     1510|         01|           1398|                   74.0|               4|       false|           NULL|               NULL|          Opel|ASTRA Monikäyttöa...|           1|              5|             ASTRA|                 5|  e1*2007/46*0141*02|                   01|         785|     129|     NULL|    NULL|     NULL|  149157|      W0LPD6EB9A|   2551299|     NULL|NULL|     NULL|           NULL|                           NULL|            NULL|           NULL|                NULL|         NULL|   NULL|NULL|         NULL|       NULL|      NULL|      NULL|            NULL|NULL|                 NULL|                          NULL|    NULL|      NULL|165.71|          2671880| 30942.38580172073|\n",
      "|34360136446|                    M1|                2011-01-19|            NULL|    1|  ACCDAAX01|      NFM6FM62S002| 2011-01-19|    2|      4|       AC|    NULL|      5|1380|                 1980|                    NULL|     4666|    1769|     1522|         01|           1798|                  118.0|               4|        true|           NULL|               NULL|         Skoda|OCTAVIA Farmari (...|           1|              6|           OCTAVIA|                 5|e11*2001/116*0230*35|                   01|         211|     158|     NULL|    NULL|     NULL|  174494|      TMBHK61Z7A|   2565629|     NULL|NULL|     NULL|           NULL|                           NULL|            NULL|           NULL|                NULL|         NULL|   NULL|NULL|         NULL|       NULL|      NULL|      NULL|            NULL|NULL|                 NULL|                          NULL|    NULL|      NULL|218.27|          2665915|48674.575257740624|\n",
      "|34360139666|                    M1|                2011-01-18|            NULL|    1|  ZRE151(H)|ZRE151L-DHFNPW(1J)| 2010-03-10|    8|      4|       AF|       1|      5|1350|                 1750|                    1750|     4245|    1760|     1515|         01|           1598|                   97.0|               4|       false|          false|               NULL|        Toyota|TOYOTA AURIS Moni...|           1|              6|      TOYOTA AURIS|                 5|e11*2001/116*0305*08|                   01|         636|     153|     NULL|    NULL|     NULL|   91978|      SB1KE56E30|   2568849|     NULL|NULL|     NULL|           NULL|                           NULL|            NULL|           NULL|                NULL|         NULL|   NULL|NULL|         NULL|       NULL|      NULL|      NULL|            NULL|NULL|                 NULL|                          NULL|    NULL|      NULL|208.05|          2666555|44547.810689002865|\n",
      "+-----------+----------------------+--------------------------+----------------+-----+-----------+------------------+-----------+-----+-------+---------+--------+-------+----+---------------------+------------------------+---------+--------+---------+-----------+---------------+-----------------------+----------------+------------+---------------+-------------------+--------------+--------------------+------------+---------------+------------------+------------------+--------------------+---------------------+------------+--------+---------+--------+---------+--------+----------------+----------+---------+----+---------+---------------+-------------------------------+----------------+---------------+--------------------+-------------+-------+----+-------------+-----------+----------+----------+----------------+----+---------------------+------------------------------+--------+----------+------+-----------------+------------------+\n",
      "only showing top 5 rows\n",
      "\n"
     ]
    }
   ],
   "source": [
    "df = df.join(vtax, on='index').join(prices, on='index').persist()\n",
    "\n",
    "df.show(5)"
   ]
  },
  {
   "cell_type": "code",
   "execution_count": 4,
   "metadata": {},
   "outputs": [
    {
     "name": "stdout",
     "output_type": "stream",
     "text": [
      "root\n",
      " |-- index: long (nullable = true)\n",
      " |-- registration_year: integer (nullable = true)\n",
      " |-- n_doors: integer (nullable = true)\n",
      " |-- n_seats: integer (nullable = true)\n",
      " |-- body_type: string (nullable = true)\n",
      " |-- drive_power: string (nullable = true)\n",
      " |-- municipality: string (nullable = true)\n",
      " |-- vtax: double (nullable = true)\n",
      " |-- price: double (nullable = true)\n",
      "\n"
     ]
    },
    {
     "data": {
      "text/plain": [
       "np.int64(1447903)"
      ]
     },
     "execution_count": 4,
     "metadata": {},
     "output_type": "execute_result"
    }
   ],
   "source": [
    "df = df.filter(F.col('vehicle_classification') == 'M1')\\\n",
    "    .withColumn('registration_year', F.year(F.col('date_of_first_registration')))\\\n",
    "    .withColumnRenamed('imputed_price', 'price')\\\n",
    "    .select('index', 'registration_year', 'n_doors', 'n_seats', 'body_type', 'drive_power', 'municipality', 'vtax', 'price')\\\n",
    "    .persist()\n",
    "\n",
    "df.printSchema()\n",
    "df.count()"
   ]
  },
  {
   "cell_type": "code",
   "execution_count": 5,
   "metadata": {},
   "outputs": [
    {
     "data": {
      "text/plain": [
       "np.int64(1039372)"
      ]
     },
     "execution_count": 5,
     "metadata": {},
     "output_type": "execute_result"
    }
   ],
   "source": [
    "# 01 gasoline, 04 electricity\n",
    "df = df.filter((F.col('drive_power') == '01') | (F.col('drive_power') == '04'))\n",
    "df.count()"
   ]
  },
  {
   "cell_type": "code",
   "execution_count": 6,
   "metadata": {},
   "outputs": [
    {
     "name": "stdout",
     "output_type": "stream",
     "text": [
      "root\n",
      " |-- index: long (nullable = true)\n",
      " |-- registration_year: integer (nullable = true)\n",
      " |-- n_doors: integer (nullable = true)\n",
      " |-- n_seats: integer (nullable = true)\n",
      " |-- body_type: string (nullable = true)\n",
      " |-- municipality: string (nullable = true)\n",
      " |-- vtax: double (nullable = true)\n",
      " |-- price: double (nullable = true)\n",
      " |-- electric: integer (nullable = false)\n",
      "\n"
     ]
    }
   ],
   "source": [
    "df = df.withColumn('electric', F.when(F.col('drive_power') == '01', 0).otherwise(1))\\\n",
    "    .drop('drive_power')\n",
    "\n",
    "df.printSchema()"
   ]
  },
  {
   "cell_type": "code",
   "execution_count": 8,
   "metadata": {},
   "outputs": [],
   "source": [
    "pddf = pd.DataFrame(df.collect(), columns=df.columns)\n",
    "pddf.to_csv('./data/regression.csv')"
   ]
  }
 ],
 "metadata": {
  "kernelspec": {
   "display_name": "venv",
   "language": "python",
   "name": "python3"
  },
  "language_info": {
   "codemirror_mode": {
    "name": "ipython",
    "version": 3
   },
   "file_extension": ".py",
   "mimetype": "text/x-python",
   "name": "python",
   "nbconvert_exporter": "python",
   "pygments_lexer": "ipython3",
   "version": "3.12.3"
  }
 },
 "nbformat": 4,
 "nbformat_minor": 2
}
