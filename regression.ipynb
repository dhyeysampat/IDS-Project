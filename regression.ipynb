{
 "cells": [
  {
   "cell_type": "code",
   "execution_count": 9,
   "metadata": {},
   "outputs": [
    {
     "data": {
      "text/plain": [
       "True"
      ]
     },
     "execution_count": 9,
     "metadata": {},
     "output_type": "execute_result"
    }
   ],
   "source": [
    "import matplotlib.pyplot as plt\n",
    "import numpy as np\n",
    "import os\n",
    "import pandas as pd\n",
    "import pyspark.sql.functions as F\n",
    "import setuptools\n",
    "import statsmodels.api as sm\n",
    "from dotenv import load_dotenv\n",
    "from pyspark.sql import SparkSession\n",
    "from pyspark.sql.window import Window\n",
    "from sklearn import linear_model, preprocessing\n",
    "from sklearn.model_selection import KFold, cross_val_score\n",
    "from sklearn.pipeline import make_pipeline, Pipeline\n",
    "from sklearn.preprocessing import PolynomialFeatures, StandardScaler\n",
    "from sklearn.linear_model import LinearRegression, LogisticRegression\n",
    "%matplotlib inline\n",
    "\n",
    "load_dotenv()"
   ]
  },
  {
   "cell_type": "code",
   "execution_count": 10,
   "metadata": {},
   "outputs": [
    {
     "data": {
      "text/html": [
       "<div>\n",
       "<style scoped>\n",
       "    .dataframe tbody tr th:only-of-type {\n",
       "        vertical-align: middle;\n",
       "    }\n",
       "\n",
       "    .dataframe tbody tr th {\n",
       "        vertical-align: top;\n",
       "    }\n",
       "\n",
       "    .dataframe thead th {\n",
       "        text-align: right;\n",
       "    }\n",
       "</style>\n",
       "<table border=\"1\" class=\"dataframe\">\n",
       "  <thead>\n",
       "    <tr style=\"text-align: right;\">\n",
       "      <th></th>\n",
       "      <th>index</th>\n",
       "      <th>registration_year</th>\n",
       "      <th>n_doors</th>\n",
       "      <th>n_seats</th>\n",
       "      <th>body_type</th>\n",
       "      <th>municipality</th>\n",
       "      <th>vtax</th>\n",
       "      <th>price</th>\n",
       "      <th>electric</th>\n",
       "    </tr>\n",
       "  </thead>\n",
       "  <tbody>\n",
       "    <tr>\n",
       "      <th>0</th>\n",
       "      <td>34360122116</td>\n",
       "      <td>2011</td>\n",
       "      <td>4</td>\n",
       "      <td>5</td>\n",
       "      <td>AF</td>\n",
       "      <td>785</td>\n",
       "      <td>165.71</td>\n",
       "      <td>30942.385802</td>\n",
       "      <td>0</td>\n",
       "    </tr>\n",
       "    <tr>\n",
       "      <th>1</th>\n",
       "      <td>34360136446</td>\n",
       "      <td>2011</td>\n",
       "      <td>4</td>\n",
       "      <td>5</td>\n",
       "      <td>AC</td>\n",
       "      <td>211</td>\n",
       "      <td>218.27</td>\n",
       "      <td>48674.575258</td>\n",
       "      <td>0</td>\n",
       "    </tr>\n",
       "    <tr>\n",
       "      <th>2</th>\n",
       "      <td>34360139666</td>\n",
       "      <td>2011</td>\n",
       "      <td>4</td>\n",
       "      <td>5</td>\n",
       "      <td>AF</td>\n",
       "      <td>636</td>\n",
       "      <td>208.05</td>\n",
       "      <td>44547.810689</td>\n",
       "      <td>0</td>\n",
       "    </tr>\n",
       "    <tr>\n",
       "      <th>3</th>\n",
       "      <td>34360139668</td>\n",
       "      <td>2011</td>\n",
       "      <td>4</td>\n",
       "      <td>5</td>\n",
       "      <td>AF</td>\n",
       "      <td>434</td>\n",
       "      <td>208.05</td>\n",
       "      <td>44547.810689</td>\n",
       "      <td>0</td>\n",
       "    </tr>\n",
       "    <tr>\n",
       "      <th>4</th>\n",
       "      <td>34360152903</td>\n",
       "      <td>2011</td>\n",
       "      <td>4</td>\n",
       "      <td>5</td>\n",
       "      <td>AF</td>\n",
       "      <td>609</td>\n",
       "      <td>182.13</td>\n",
       "      <td>26603.686706</td>\n",
       "      <td>0</td>\n",
       "    </tr>\n",
       "  </tbody>\n",
       "</table>\n",
       "</div>"
      ],
      "text/plain": [
       "         index  registration_year  n_doors  n_seats body_type municipality  \\\n",
       "0  34360122116               2011        4        5        AF          785   \n",
       "1  34360136446               2011        4        5        AC          211   \n",
       "2  34360139666               2011        4        5        AF          636   \n",
       "3  34360139668               2011        4        5        AF          434   \n",
       "4  34360152903               2011        4        5        AF          609   \n",
       "\n",
       "     vtax         price  electric  \n",
       "0  165.71  30942.385802         0  \n",
       "1  218.27  48674.575258         0  \n",
       "2  208.05  44547.810689         0  \n",
       "3  208.05  44547.810689         0  \n",
       "4  182.13  26603.686706         0  "
      ]
     },
     "execution_count": 10,
     "metadata": {},
     "output_type": "execute_result"
    }
   ],
   "source": [
    "df = pd.read_parquet('data/preprocessed_regression_data')\n",
    "df.head()"
   ]
  },
  {
   "cell_type": "code",
   "execution_count": 11,
   "metadata": {},
   "outputs": [
    {
     "name": "stdout",
     "output_type": "stream",
     "text": [
      "1039372\n",
      "1036833\n"
     ]
    }
   ],
   "source": [
    "print(df.shape[0])\n",
    "df = df.dropna()\n",
    "print(df.shape[0])"
   ]
  },
  {
   "cell_type": "code",
   "execution_count": 18,
   "metadata": {},
   "outputs": [
    {
     "name": "stdout",
     "output_type": "stream",
     "text": [
      "Optimization terminated successfully.\n",
      "         Current function value: 0.239181\n",
      "         Iterations 7\n"
     ]
    },
    {
     "data": {
      "text/html": [
       "<table class=\"simpletable\">\n",
       "<caption>Logit Regression Results</caption>\n",
       "<tr>\n",
       "  <th>Dep. Variable:</th>       <td>electric</td>     <th>  No. Observations:  </th>   <td>1036833</td>  \n",
       "</tr>\n",
       "<tr>\n",
       "  <th>Model:</th>                 <td>Logit</td>      <th>  Df Residuals:      </th>   <td>1036830</td>  \n",
       "</tr>\n",
       "<tr>\n",
       "  <th>Method:</th>                 <td>MLE</td>       <th>  Df Model:          </th>   <td>     2</td>   \n",
       "</tr>\n",
       "<tr>\n",
       "  <th>Date:</th>            <td>Mon, 28 Oct 2024</td> <th>  Pseudo R-squ.:     </th>   <td>0.1631</td>   \n",
       "</tr>\n",
       "<tr>\n",
       "  <th>Time:</th>                <td>16:54:23</td>     <th>  Log-Likelihood:    </th> <td>-2.4799e+05</td>\n",
       "</tr>\n",
       "<tr>\n",
       "  <th>converged:</th>             <td>True</td>       <th>  LL-Null:           </th> <td>-2.9632e+05</td>\n",
       "</tr>\n",
       "<tr>\n",
       "  <th>Covariance Type:</th>     <td>nonrobust</td>    <th>  LLR p-value:       </th>   <td> 0.000</td>   \n",
       "</tr>\n",
       "</table>\n",
       "<table class=\"simpletable\">\n",
       "<tr>\n",
       "    <td></td>       <th>coef</th>     <th>std err</th>      <th>z</th>      <th>P>|z|</th>  <th>[0.025</th>    <th>0.975]</th>  \n",
       "</tr>\n",
       "<tr>\n",
       "  <th>const</th> <td>   -2.8479</td> <td>    0.005</td> <td> -600.025</td> <td> 0.000</td> <td>   -2.857</td> <td>   -2.839</td>\n",
       "</tr>\n",
       "<tr>\n",
       "  <th>x1</th>    <td>    0.9520</td> <td>    0.004</td> <td>  230.914</td> <td> 0.000</td> <td>    0.944</td> <td>    0.960</td>\n",
       "</tr>\n",
       "<tr>\n",
       "  <th>x2</th>    <td>    0.4789</td> <td>    0.003</td> <td>  146.948</td> <td> 0.000</td> <td>    0.472</td> <td>    0.485</td>\n",
       "</tr>\n",
       "</table>"
      ],
      "text/latex": [
       "\\begin{center}\n",
       "\\begin{tabular}{lclc}\n",
       "\\toprule\n",
       "\\textbf{Dep. Variable:}   &     electric     & \\textbf{  No. Observations:  } &   1036833    \\\\\n",
       "\\textbf{Model:}           &      Logit       & \\textbf{  Df Residuals:      } &   1036830    \\\\\n",
       "\\textbf{Method:}          &       MLE        & \\textbf{  Df Model:          } &         2    \\\\\n",
       "\\textbf{Date:}            & Mon, 28 Oct 2024 & \\textbf{  Pseudo R-squ.:     } &    0.1631    \\\\\n",
       "\\textbf{Time:}            &     16:54:23     & \\textbf{  Log-Likelihood:    } & -2.4799e+05  \\\\\n",
       "\\textbf{converged:}       &       True       & \\textbf{  LL-Null:           } & -2.9632e+05  \\\\\n",
       "\\textbf{Covariance Type:} &    nonrobust     & \\textbf{  LLR p-value:       } &     0.000    \\\\\n",
       "\\bottomrule\n",
       "\\end{tabular}\n",
       "\\begin{tabular}{lcccccc}\n",
       "               & \\textbf{coef} & \\textbf{std err} & \\textbf{z} & \\textbf{P$> |$z$|$} & \\textbf{[0.025} & \\textbf{0.975]}  \\\\\n",
       "\\midrule\n",
       "\\textbf{const} &      -2.8479  &        0.005     &  -600.025  &         0.000        &       -2.857    &       -2.839     \\\\\n",
       "\\textbf{x1}    &       0.9520  &        0.004     &   230.914  &         0.000        &        0.944    &        0.960     \\\\\n",
       "\\textbf{x2}    &       0.4789  &        0.003     &   146.948  &         0.000        &        0.472    &        0.485     \\\\\n",
       "\\bottomrule\n",
       "\\end{tabular}\n",
       "%\\caption{Logit Regression Results}\n",
       "\\end{center}"
      ],
      "text/plain": [
       "<class 'statsmodels.iolib.summary.Summary'>\n",
       "\"\"\"\n",
       "                           Logit Regression Results                           \n",
       "==============================================================================\n",
       "Dep. Variable:               electric   No. Observations:              1036833\n",
       "Model:                          Logit   Df Residuals:                  1036830\n",
       "Method:                           MLE   Df Model:                            2\n",
       "Date:                Mon, 28 Oct 2024   Pseudo R-squ.:                  0.1631\n",
       "Time:                        16:54:23   Log-Likelihood:            -2.4799e+05\n",
       "converged:                       True   LL-Null:                   -2.9632e+05\n",
       "Covariance Type:            nonrobust   LLR p-value:                     0.000\n",
       "==============================================================================\n",
       "                 coef    std err          z      P>|z|      [0.025      0.975]\n",
       "------------------------------------------------------------------------------\n",
       "const         -2.8479      0.005   -600.025      0.000      -2.857      -2.839\n",
       "x1             0.9520      0.004    230.914      0.000       0.944       0.960\n",
       "x2             0.4789      0.003    146.948      0.000       0.472       0.485\n",
       "==============================================================================\n",
       "\"\"\""
      ]
     },
     "execution_count": 18,
     "metadata": {},
     "output_type": "execute_result"
    }
   ],
   "source": [
    "y = df['electric']\n",
    "X = df[['vtax', 'price']]\n",
    "\n",
    "pipe = Pipeline([\n",
    "    ('scaler', StandardScaler()), # zero mean unit variance\n",
    "    #('polyd2', PolynomialFeatures(degree=2))\n",
    "])\n",
    "\n",
    "Xp = pipe.fit_transform(X)\n",
    "#Xp = pd.DataFrame(Xp, columns=pipe.named_steps['polyd2'].get_feature_names_out())\n",
    "#Xp.head()\n",
    "\n",
    "fit = pipe.fit(Xp, y)\n",
    "\n",
    "smfit = sm.Logit(y, sm.add_constant(Xp)).fit()\n",
    "smfit.summary()"
   ]
  },
  {
   "cell_type": "code",
   "execution_count": 20,
   "metadata": {},
   "outputs": [
    {
     "data": {
      "text/plain": [
       "const    0.0\n",
       "x1       0.0\n",
       "x2       0.0\n",
       "dtype: float64"
      ]
     },
     "execution_count": 20,
     "metadata": {},
     "output_type": "execute_result"
    }
   ],
   "source": [
    "smfit.pvalues"
   ]
  }
 ],
 "metadata": {
  "kernelspec": {
   "display_name": "venv",
   "language": "python",
   "name": "python3"
  },
  "language_info": {
   "codemirror_mode": {
    "name": "ipython",
    "version": 3
   },
   "file_extension": ".py",
   "mimetype": "text/x-python",
   "name": "python",
   "nbconvert_exporter": "python",
   "pygments_lexer": "ipython3",
   "version": "3.12.3"
  }
 },
 "nbformat": 4,
 "nbformat_minor": 2
}
