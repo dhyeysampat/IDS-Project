{
 "cells": [
  {
   "cell_type": "code",
   "execution_count": 1,
   "metadata": {},
   "outputs": [],
   "source": [
    "import setuptools\n",
    "import os\n",
    "from dotenv import load_dotenv\n",
    "from pyspark.sql import SparkSession\n",
    "import pyspark.sql.functions as F\n",
    "import pandas as pd\n",
    "from datetime import datetime, timedelta\n",
    "from tqdm.notebook import trange, tqdm\n",
    "\n",
    "load_dotenv()\n",
    "SPARK_HOST = os.getenv('SPARK_HOST')\n",
    "SPARK_APP_NAME = os.getenv('SPARK_APP_NAME')\n",
    "\n",
    "spark = SparkSession.builder.remote(SPARK_HOST).appName(SPARK_APP_NAME).getOrCreate()"
   ]
  },
  {
   "cell_type": "code",
   "execution_count": 17,
   "metadata": {},
   "outputs": [],
   "source": [
    "ROOT = os.getenv('WORKING_DIR')\n",
    "trafidata = spark.read.parquet(ROOT + 'data/trafidata_with_indices')\n",
    "taxprice = spark.read.parquet(ROOT + 'data/tax_data_with_price_predictions')\n",
    "matches = spark.read.parquet(ROOT + 'data/tax_trafi_index_pairs')"
   ]
  },
  {
   "cell_type": "code",
   "execution_count": 18,
   "metadata": {},
   "outputs": [
    {
     "name": "stdout",
     "output_type": "stream",
     "text": [
      "+-----------+----------------------+--------------------------+----------------+-----+-----------+-----------+-----------+-----+-------+---------+--------+-------+----+---------------------+------------------------+---------+--------+---------+-----------+---------------+-----------------------+----------------+------------+---------------+-------------------+--------------+----------------+------------+---------------+------------------+------------------+--------------------+---------------------+------------+--------+---------+--------+---------+--------+----------------+----------+---------+----+---------+---------------+-------------------------------+----------------+---------------+--------------------+-------------+-------+----+-------------+-----------+----------+----------+----------------+----+---------------------+------------------------------+--------+----------+\n",
      "|      index|vehicle_classification|date_of_first_registration|vehicle_subclass|usage|variant_uid|version_uid|date_of_use|color|n_doors|body_type|cab_type|n_seats|mass|manufac_perm_max_mass|max_road_perm_laden_mass|length_mm|width_mm|height_mm|drive_power|engine_capacity|max_net_engine_power_kw|sylintereidenLkm|supercharged|electric_hybrid|electric_hybrid_cat|make_plaintext|           model|transmission|n_forward_gears|manufac_trade_name|brake_transmission|type_approval_number|driving_power_euro_vi|municipality|NEDC_Co2|NEDC2_Co2|WLTP_Co2|WLTP2_Co2|odometer|serial_number_10|seq_number|tax_index|make|tax.model|model_specifier|condition_h_bad_n_normal_y_good|date_of_decision|tax.date_of_use|odometer_unit_1000km|taxable_value|car_tax| Cm3|driving_power|tax.n_doors|body_style|drivetrain|tax.transmission|  Kw|individual_properties|tax.date_of_first_registration|tax_rate|pred_price|\n",
      "+-----------+----------------------+--------------------------+----------------+-----+-----------+-----------+-----------+-----+-------+---------+--------+-------+----+---------------------+------------------------+---------+--------+---------+-----------+---------------+-----------------------+----------------+------------+---------------+-------------------+--------------+----------------+------------+---------------+------------------+------------------+--------------------+---------------------+------------+--------+---------+--------+---------+--------+----------------+----------+---------+----+---------+---------------+-------------------------------+----------------+---------------+--------------------+-------------+-------+----+-------------+-----------+----------+----------+----------------+----+---------------------+------------------------------+--------+----------+\n",
      "|25769803780|                    O1|                1991-05-15|               1|    1|       NULL|       NULL| 1991-05-15| NULL|   NULL|     NULL|    NULL|   NULL| 150|                  650|                     650|     3300|    1670|     NULL|       NULL|           NULL|                   NULL|            NULL|        NULL|           NULL|               NULL|        Kärppä|       MIDI/2310|        NULL|           NULL|              NULL|              NULL|                NULL|                 NULL|         980|    NULL|     NULL|    NULL|     NULL|    NULL|            NULL|   1087531|     NULL|NULL|     NULL|           NULL|                           NULL|            NULL|           NULL|                NULL|         NULL|   NULL|NULL|         NULL|       NULL|      NULL|      NULL|            NULL|NULL|                 NULL|                          NULL|    NULL|      NULL|\n",
      "|25769803779|                   MUU|                      NULL|             509|    1|       NULL|       NULL|       NULL| NULL|   NULL|     NULL|    NULL|      1|3780|                 NULL|                    NULL|     NULL|    NULL|     NULL|         02|           4200|                   NULL|            NULL|        NULL|           NULL|               NULL|      Volvo Bm|       T650/2440|        NULL|           NULL|              NULL|                 1|                NULL|                   02|         286|    NULL|     NULL|    NULL|     NULL|    NULL|            NULL|   1087530|     NULL|NULL|     NULL|           NULL|                           NULL|            NULL|           NULL|                NULL|         NULL|   NULL|NULL|         NULL|       NULL|      NULL|      NULL|            NULL|NULL|                 NULL|                          NULL|    NULL|      NULL|\n",
      "|25769803781|                    O2|                1992-06-03|              13|    1|       NULL|       NULL| 1992-06-03|    9|   NULL|     NULL|    NULL|   NULL| 750|                 1000|                     880|     6600|    2090|     NULL|       NULL|           NULL|                   NULL|            NULL|        NULL|           NULL|               NULL|       Solifer|   ARTIC 50/3880|        NULL|           NULL|              NULL|                 8|                NULL|                 NULL|         749|    NULL|     NULL|    NULL|     NULL|    NULL|            NULL|   1087532|     NULL|NULL|     NULL|           NULL|                           NULL|            NULL|           NULL|                NULL|         NULL|   NULL|NULL|         NULL|       NULL|      NULL|      NULL|            NULL|NULL|                 NULL|                          NULL|    NULL|      NULL|\n",
      "|25769803776|                    O1|                1998-04-02|               1|    1|       NULL|       NULL| 1998-04-02| NULL|   NULL|     NULL|    NULL|   NULL| 160|                  750|                     750|     3940|    1640|     NULL|       NULL|           NULL|                   NULL|            NULL|        NULL|           NULL|               NULL|        Kärppä|K 125-261 LJ/261|        NULL|           NULL|              NULL|              NULL|                NULL|                 NULL|         503|    NULL|     NULL|    NULL|     NULL|    NULL|            NULL|   1087527|     NULL|NULL|     NULL|           NULL|                           NULL|            NULL|           NULL|                NULL|         NULL|   NULL|NULL|         NULL|       NULL|      NULL|      NULL|            NULL|NULL|                 NULL|                          NULL|    NULL|      NULL|\n",
      "|25769803777|                    L1|                1997-10-20|             109|    1|       NULL|       NULL|       NULL|    0|   NULL|     NULL|    NULL|      1|  60|                 NULL|                    NULL|     1330|     680|     NULL|         01|             50|                   NULL|               1|       false|          false|               NULL|        Suzuki|            NULL|           7|              4|  SOLIFER PV 50/50|                 1|                NULL|                   01|         499|    NULL|     NULL|    NULL|     NULL|    NULL|            NULL|   1087528|     NULL|NULL|     NULL|           NULL|                           NULL|            NULL|           NULL|                NULL|         NULL|   NULL|NULL|         NULL|       NULL|      NULL|      NULL|            NULL|NULL|                 NULL|                          NULL|    NULL|      NULL|\n",
      "+-----------+----------------------+--------------------------+----------------+-----+-----------+-----------+-----------+-----+-------+---------+--------+-------+----+---------------------+------------------------+---------+--------+---------+-----------+---------------+-----------------------+----------------+------------+---------------+-------------------+--------------+----------------+------------+---------------+------------------+------------------+--------------------+---------------------+------------+--------+---------+--------+---------+--------+----------------+----------+---------+----+---------+---------------+-------------------------------+----------------+---------------+--------------------+-------------+-------+----+-------------+-----------+----------+----------+----------------+----+---------------------+------------------------------+--------+----------+\n",
      "only showing top 5 rows\n",
      "\n"
     ]
    }
   ],
   "source": [
    "matches = matches.withColumnRenamed('tax_index', 'index')\n",
    "taxprice = taxprice.join(matches, on='index').withColumnRenamed('index', 'tax_index')\n",
    "\n",
    "for col in taxprice.columns:\n",
    "    if col in trafidata.columns:\n",
    "        taxprice = taxprice.withColumnRenamed(col, f'tax.{col}')\n",
    "\n",
    "taxprice = taxprice.withColumnRenamed('trafi_index', 'index')\n",
    "\n",
    "trafidata = trafidata.join(taxprice, on='index', how='left')\n",
    "trafidata.show(5)\n"
   ]
  },
  {
   "cell_type": "code",
   "execution_count": 19,
   "metadata": {},
   "outputs": [
    {
     "name": "stdout",
     "output_type": "stream",
     "text": [
      "root\n",
      " |-- index: long (nullable = true)\n",
      " |-- vehicle_classification: string (nullable = true)\n",
      " |-- date_of_first_registration: date (nullable = true)\n",
      " |-- vehicle_subclass: integer (nullable = true)\n",
      " |-- usage: integer (nullable = true)\n",
      " |-- variant_uid: string (nullable = true)\n",
      " |-- version_uid: string (nullable = true)\n",
      " |-- date_of_use: date (nullable = true)\n",
      " |-- color: string (nullable = true)\n",
      " |-- n_doors: integer (nullable = true)\n",
      " |-- body_type: string (nullable = true)\n",
      " |-- cab_type: integer (nullable = true)\n",
      " |-- n_seats: integer (nullable = true)\n",
      " |-- mass: integer (nullable = true)\n",
      " |-- manufac_perm_max_mass: integer (nullable = true)\n",
      " |-- max_road_perm_laden_mass: integer (nullable = true)\n",
      " |-- length_mm: integer (nullable = true)\n",
      " |-- width_mm: integer (nullable = true)\n",
      " |-- height_mm: integer (nullable = true)\n",
      " |-- drive_power: string (nullable = true)\n",
      " |-- engine_capacity: integer (nullable = true)\n",
      " |-- max_net_engine_power_kw: double (nullable = true)\n",
      " |-- sylintereidenLkm: integer (nullable = true)\n",
      " |-- supercharged: boolean (nullable = true)\n",
      " |-- electric_hybrid: boolean (nullable = true)\n",
      " |-- electric_hybrid_cat: integer (nullable = true)\n",
      " |-- make_plaintext: string (nullable = true)\n",
      " |-- model: string (nullable = true)\n",
      " |-- transmission: string (nullable = true)\n",
      " |-- n_forward_gears: integer (nullable = true)\n",
      " |-- manufac_trade_name: string (nullable = true)\n",
      " |-- brake_transmission: integer (nullable = true)\n",
      " |-- type_approval_number: string (nullable = true)\n",
      " |-- driving_power_euro_vi: string (nullable = true)\n",
      " |-- municipality: string (nullable = true)\n",
      " |-- NEDC_Co2: integer (nullable = true)\n",
      " |-- NEDC2_Co2: integer (nullable = true)\n",
      " |-- WLTP_Co2: integer (nullable = true)\n",
      " |-- WLTP2_Co2: integer (nullable = true)\n",
      " |-- odometer: integer (nullable = true)\n",
      " |-- serial_number_10: string (nullable = true)\n",
      " |-- seq_number: integer (nullable = true)\n",
      " |-- tax_index: long (nullable = true)\n",
      " |-- make: string (nullable = true)\n",
      " |-- tax.model: string (nullable = true)\n",
      " |-- model_specifier: string (nullable = true)\n",
      " |-- condition_h_bad_n_normal_y_good: string (nullable = true)\n",
      " |-- date_of_decision: date (nullable = true)\n",
      " |-- tax.date_of_use: date (nullable = true)\n",
      " |-- odometer_unit_1000km: integer (nullable = true)\n",
      " |-- taxable_value: double (nullable = true)\n",
      " |-- car_tax: double (nullable = true)\n",
      " |-- Cm3: integer (nullable = true)\n",
      " |-- driving_power: string (nullable = true)\n",
      " |-- tax.n_doors: integer (nullable = true)\n",
      " |-- body_style: string (nullable = true)\n",
      " |-- drivetrain: string (nullable = true)\n",
      " |-- tax.transmission: string (nullable = true)\n",
      " |-- Kw: integer (nullable = true)\n",
      " |-- individual_properties: string (nullable = true)\n",
      " |-- tax.date_of_first_registration: date (nullable = true)\n",
      " |-- tax_rate: double (nullable = true)\n",
      " |-- pred_price: double (nullable = true)\n",
      "\n"
     ]
    }
   ],
   "source": [
    "trafidata.printSchema()"
   ]
  },
  {
   "cell_type": "code",
   "execution_count": 20,
   "metadata": {},
   "outputs": [],
   "source": [
    "trafidata.write.options(encoding=\"ISO-8859-1\", header=True, delimiter=\";\").parquet(ROOT + 'data/tax_trafi_merged_data')"
   ]
  }
 ],
 "metadata": {
  "kernelspec": {
   "display_name": "venv",
   "language": "python",
   "name": "python3"
  },
  "language_info": {
   "codemirror_mode": {
    "name": "ipython",
    "version": 3
   },
   "file_extension": ".py",
   "mimetype": "text/x-python",
   "name": "python",
   "nbconvert_exporter": "python",
   "pygments_lexer": "ipython3",
   "version": "3.12.3"
  }
 },
 "nbformat": 4,
 "nbformat_minor": 2
}
