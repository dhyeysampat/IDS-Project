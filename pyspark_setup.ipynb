{
 "cells": [
  {
   "cell_type": "code",
   "execution_count": null,
   "metadata": {},
   "outputs": [],
   "source": [
    "!pip install setuptools pyarrow pyspark grpcio google-api-python-client grpcio-status"
   ]
  },
  {
   "cell_type": "markdown",
   "metadata": {},
   "source": [
    "1. Download spark from https://spark.apache.org/downloads.html and extract,\n",
    "2. Run `sbin/start-connect-server.sh --packages org.apache.spark:spark-connect_2.12:3.5.3`, check spark version for spark connect at the end\n",
    "3. Check spark connect server url, should be `localhost:15000` or 15001, 15002\n",
    "\n",
    "Connect to spark server from notebook \n",
    "\n",
    "```Python\n",
    "from pyspark.sql import SparkSession\n",
    "spark = SparkSession.builder.remote(\"sc://localhost:15000\").appName(\"Whatever\").getOrCreate()\n",
    "\n",
    "df = spark.read.parquet('/full/path/to/file')\n",
    "```"
   ]
  },
  {
   "cell_type": "markdown",
   "metadata": {},
   "source": [
    "If java throws errors, use a different java version e.g. java 17"
   ]
  }
 ],
 "metadata": {
  "language_info": {
   "name": "python"
  }
 },
 "nbformat": 4,
 "nbformat_minor": 2
}
